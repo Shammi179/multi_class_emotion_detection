{
 "cells": [
  {
   "cell_type": "markdown",
   "metadata": {},
   "source": [
    "# Labelling\n",
    " anger - 0  \n",
    " fear - 1  \n",
    " disgust - 2  \n",
    " joy - 3  \n",
    " sadness - 4  \n",
    " surprise - 5  "
   ]
  },
  {
   "cell_type": "code",
   "execution_count": 41,
   "metadata": {},
   "outputs": [],
   "source": [
    "import pandas as pd"
   ]
  },
  {
   "cell_type": "code",
   "execution_count": 42,
   "metadata": {},
   "outputs": [
    {
     "data": {
      "text/html": [
       "<div>\n",
       "<style scoped>\n",
       "    .dataframe tbody tr th:only-of-type {\n",
       "        vertical-align: middle;\n",
       "    }\n",
       "\n",
       "    .dataframe tbody tr th {\n",
       "        vertical-align: top;\n",
       "    }\n",
       "\n",
       "    .dataframe thead th {\n",
       "        text-align: right;\n",
       "    }\n",
       "</style>\n",
       "<table border=\"1\" class=\"dataframe\">\n",
       "  <thead>\n",
       "    <tr style=\"text-align: right;\">\n",
       "      <th></th>\n",
       "      <th>bangla</th>\n",
       "      <th>classes</th>\n",
       "    </tr>\n",
       "  </thead>\n",
       "  <tbody>\n",
       "    <tr>\n",
       "      <th>0</th>\n",
       "      <td>যত ভয়ের ব্যাপারটি নিয়ে মজা করছি তত ভয়  লাগছে</td>\n",
       "      <td>fear</td>\n",
       "    </tr>\n",
       "    <tr>\n",
       "      <th>1</th>\n",
       "      <td>দ্য স্যাক্রেড ব্যান্ড অফ থিবস    জনের দুর্ধর...</td>\n",
       "      <td>sadness</td>\n",
       "    </tr>\n",
       "    <tr>\n",
       "      <th>2</th>\n",
       "      <td>আকবর আলীর ভবিষ্যতে কি লেখা আছে জানিনা তবে তার...</td>\n",
       "      <td>joy</td>\n",
       "    </tr>\n",
       "    <tr>\n",
       "      <th>3</th>\n",
       "      <td>আমাদের সমাজ শেষ করে দিছে  যারা সেবন করে তারাও...</td>\n",
       "      <td>fear</td>\n",
       "    </tr>\n",
       "    <tr>\n",
       "      <th>4</th>\n",
       "      <td>আমার ক্ষেত্রে ও এমন হয়েছিল যেখানে ফেল যাওয়ার...</td>\n",
       "      <td>sadness</td>\n",
       "    </tr>\n",
       "  </tbody>\n",
       "</table>\n",
       "</div>"
      ],
      "text/plain": [
       "                                              bangla  classes\n",
       "0      যত ভয়ের ব্যাপারটি নিয়ে মজা করছি তত ভয়  লাগছে      fear\n",
       "1    দ্য স্যাক্রেড ব্যান্ড অফ থিবস    জনের দুর্ধর...  sadness\n",
       "2   আকবর আলীর ভবিষ্যতে কি লেখা আছে জানিনা তবে তার...      joy\n",
       "3   আমাদের সমাজ শেষ করে দিছে  যারা সেবন করে তারাও...     fear\n",
       "4   আমার ক্ষেত্রে ও এমন হয়েছিল যেখানে ফেল যাওয়ার...  sadness"
      ]
     },
     "execution_count": 42,
     "metadata": {},
     "output_type": "execute_result"
    }
   ],
   "source": [
    "data = pd.read_csv('sa-dataset.csv')\n",
    "data.head()"
   ]
  },
  {
   "cell_type": "code",
   "execution_count": 43,
   "metadata": {},
   "outputs": [
    {
     "data": {
      "text/plain": [
       "5667"
      ]
     },
     "execution_count": 43,
     "metadata": {},
     "output_type": "execute_result"
    }
   ],
   "source": [
    "len(data)"
   ]
  },
  {
   "cell_type": "code",
   "execution_count": 44,
   "metadata": {},
   "outputs": [],
   "source": [
    "class_list = ['anger','disgust','fear','joy','sadness','surprise']\n",
    "labeled = []\n",
    "for i in range(0,len(data)):\n",
    "\tif data.classes[i] in class_list:\n",
    "\t\tl = data.classes[i]\n",
    "\t\tlabeled.append(class_list.index(l))"
   ]
  },
  {
   "cell_type": "code",
   "execution_count": 45,
   "metadata": {},
   "outputs": [],
   "source": [
    "data['labels'] = labeled"
   ]
  },
  {
   "cell_type": "code",
   "execution_count": 46,
   "metadata": {},
   "outputs": [],
   "source": [
    "data.to_csv('labeled-sa-dataset.csv',index=False,encoding='utf-8-sig')"
   ]
  },
  {
   "cell_type": "markdown",
   "metadata": {},
   "source": [
    "## Preprocessing "
   ]
  },
  {
   "cell_type": "code",
   "execution_count": 55,
   "metadata": {},
   "outputs": [
    {
     "data": {
      "text/html": [
       "<div>\n",
       "<style scoped>\n",
       "    .dataframe tbody tr th:only-of-type {\n",
       "        vertical-align: middle;\n",
       "    }\n",
       "\n",
       "    .dataframe tbody tr th {\n",
       "        vertical-align: top;\n",
       "    }\n",
       "\n",
       "    .dataframe thead th {\n",
       "        text-align: right;\n",
       "    }\n",
       "</style>\n",
       "<table border=\"1\" class=\"dataframe\">\n",
       "  <thead>\n",
       "    <tr style=\"text-align: right;\">\n",
       "      <th></th>\n",
       "      <th>bangla</th>\n",
       "      <th>classes</th>\n",
       "      <th>lables</th>\n",
       "    </tr>\n",
       "  </thead>\n",
       "  <tbody>\n",
       "    <tr>\n",
       "      <th>0</th>\n",
       "      <td>যত ভয়ের ব্যাপারটি নিয়ে মজা করছি তত ভয়  লাগছে</td>\n",
       "      <td>fear</td>\n",
       "      <td>5</td>\n",
       "    </tr>\n",
       "    <tr>\n",
       "      <th>1</th>\n",
       "      <td>দ্য স্যাক্রেড ব্যান্ড অফ থিবস    জনের দুর্ধর...</td>\n",
       "      <td>sadness</td>\n",
       "      <td>1</td>\n",
       "    </tr>\n",
       "    <tr>\n",
       "      <th>2</th>\n",
       "      <td>আকবর আলীর ভবিষ্যতে কি লেখা আছে জানিনা তবে তার...</td>\n",
       "      <td>joy</td>\n",
       "      <td>0</td>\n",
       "    </tr>\n",
       "    <tr>\n",
       "      <th>3</th>\n",
       "      <td>আমাদের সমাজ শেষ করে দিছে  যারা সেবন করে তারাও...</td>\n",
       "      <td>fear</td>\n",
       "      <td>5</td>\n",
       "    </tr>\n",
       "    <tr>\n",
       "      <th>4</th>\n",
       "      <td>আমার ক্ষেত্রে ও এমন হয়েছিল যেখানে ফেল যাওয়ার...</td>\n",
       "      <td>sadness</td>\n",
       "      <td>1</td>\n",
       "    </tr>\n",
       "  </tbody>\n",
       "</table>\n",
       "</div>"
      ],
      "text/plain": [
       "                                              bangla  classes  lables\n",
       "0      যত ভয়ের ব্যাপারটি নিয়ে মজা করছি তত ভয়  লাগছে      fear       5\n",
       "1    দ্য স্যাক্রেড ব্যান্ড অফ থিবস    জনের দুর্ধর...  sadness       1\n",
       "2   আকবর আলীর ভবিষ্যতে কি লেখা আছে জানিনা তবে তার...      joy       0\n",
       "3   আমাদের সমাজ শেষ করে দিছে  যারা সেবন করে তারাও...     fear       5\n",
       "4   আমার ক্ষেত্রে ও এমন হয়েছিল যেখানে ফেল যাওয়ার...  sadness       1"
      ]
     },
     "execution_count": 55,
     "metadata": {},
     "output_type": "execute_result"
    }
   ],
   "source": [
    "df = pd.read_csv('labeled-sa-dataset.csv')\n",
    "df.head()"
   ]
  },
  {
   "cell_type": "code",
   "execution_count": 56,
   "metadata": {},
   "outputs": [],
   "source": [
    "import re\n",
    "\n",
    "pattern = re.compile('[!@#$%^&*()_+-={}\\[\\];:\\'\\\"\\|<>,.///?`~।]', flags=re.I)\n",
    "mod_string = []\n",
    "\n",
    "for i in range(0,len(data)):\n",
    "\ttext = data.bangla[i]\n",
    "\tt = re.sub(pattern,'',text)\n",
    "\tmod_string.append(t)"
   ]
  },
  {
   "cell_type": "code",
   "execution_count": 57,
   "metadata": {},
   "outputs": [],
   "source": [
    "df['cleaned'] = mod_string"
   ]
  },
  {
   "cell_type": "code",
   "execution_count": 58,
   "metadata": {},
   "outputs": [
    {
     "data": {
      "text/html": [
       "<div>\n",
       "<style scoped>\n",
       "    .dataframe tbody tr th:only-of-type {\n",
       "        vertical-align: middle;\n",
       "    }\n",
       "\n",
       "    .dataframe tbody tr th {\n",
       "        vertical-align: top;\n",
       "    }\n",
       "\n",
       "    .dataframe thead th {\n",
       "        text-align: right;\n",
       "    }\n",
       "</style>\n",
       "<table border=\"1\" class=\"dataframe\">\n",
       "  <thead>\n",
       "    <tr style=\"text-align: right;\">\n",
       "      <th></th>\n",
       "      <th>bangla</th>\n",
       "      <th>classes</th>\n",
       "      <th>lables</th>\n",
       "      <th>cleaned</th>\n",
       "    </tr>\n",
       "  </thead>\n",
       "  <tbody>\n",
       "    <tr>\n",
       "      <th>0</th>\n",
       "      <td>যত ভয়ের ব্যাপারটি নিয়ে মজা করছি তত ভয়  লাগছে</td>\n",
       "      <td>fear</td>\n",
       "      <td>5</td>\n",
       "      <td>যত ভয়ের ব্যাপারটি নিয়ে মজা করছি তত ভয়  লাগছে</td>\n",
       "    </tr>\n",
       "    <tr>\n",
       "      <th>1</th>\n",
       "      <td>দ্য স্যাক্রেড ব্যান্ড অফ থিবস    জনের দুর্ধর...</td>\n",
       "      <td>sadness</td>\n",
       "      <td>1</td>\n",
       "      <td>দ্য স্যাক্রেড ব্যান্ড অফ থিবস    জনের দুর্ধর...</td>\n",
       "    </tr>\n",
       "    <tr>\n",
       "      <th>2</th>\n",
       "      <td>আকবর আলীর ভবিষ্যতে কি লেখা আছে জানিনা তবে তার...</td>\n",
       "      <td>joy</td>\n",
       "      <td>0</td>\n",
       "      <td>আকবর আলীর ভবিষ্যতে কি লেখা আছে জানিনা তবে তার...</td>\n",
       "    </tr>\n",
       "    <tr>\n",
       "      <th>3</th>\n",
       "      <td>আমাদের সমাজ শেষ করে দিছে  যারা সেবন করে তারাও...</td>\n",
       "      <td>fear</td>\n",
       "      <td>5</td>\n",
       "      <td>আমাদের সমাজ শেষ করে দিছে  যারা সেবন করে তারাও...</td>\n",
       "    </tr>\n",
       "    <tr>\n",
       "      <th>4</th>\n",
       "      <td>আমার ক্ষেত্রে ও এমন হয়েছিল যেখানে ফেল যাওয়ার...</td>\n",
       "      <td>sadness</td>\n",
       "      <td>1</td>\n",
       "      <td>আমার ক্ষেত্রে ও এমন হয়েছিল যেখানে ফেল যাওয়ার...</td>\n",
       "    </tr>\n",
       "    <tr>\n",
       "      <th>...</th>\n",
       "      <td>...</td>\n",
       "      <td>...</td>\n",
       "      <td>...</td>\n",
       "      <td>...</td>\n",
       "    </tr>\n",
       "    <tr>\n",
       "      <th>5662</th>\n",
       "      <td>হে আল্লাহ আপনি আমাদের দেশের প্রতি সহায়ক হন   ...</td>\n",
       "      <td>sadness</td>\n",
       "      <td>1</td>\n",
       "      <td>হে আল্লাহ আপনি আমাদের দেশের প্রতি সহায়ক হন   ...</td>\n",
       "    </tr>\n",
       "    <tr>\n",
       "      <th>5663</th>\n",
       "      <td>ঈদ ছারাও যুদি বাংলাদেশ ঈদের খুশির অামেজ পান তব...</td>\n",
       "      <td>joy</td>\n",
       "      <td>0</td>\n",
       "      <td>ঈদ ছারাও যুদি বাংলাদেশ ঈদের খুশির অামেজ পান তব...</td>\n",
       "    </tr>\n",
       "    <tr>\n",
       "      <th>5664</th>\n",
       "      <td>বছরের সবচেয়ে সেরা ভিডিও দেখেছি  আমাদের দেশের স...</td>\n",
       "      <td>joy</td>\n",
       "      <td>0</td>\n",
       "      <td>বছরের সবচেয়ে সেরা ভিডিও দেখেছি  আমাদের দেশের স...</td>\n",
       "    </tr>\n",
       "    <tr>\n",
       "      <th>5665</th>\n",
       "      <td>কিরে মিথ্যা কথা কস কেন গতদিন আমি আর আসিফ আসছি...</td>\n",
       "      <td>anger</td>\n",
       "      <td>4</td>\n",
       "      <td>কিরে মিথ্যা কথা কস কেন গতদিন আমি আর আসিফ আসছি...</td>\n",
       "    </tr>\n",
       "    <tr>\n",
       "      <th>5666</th>\n",
       "      <td>\\nভাইরেভাই বেস্ট এইটা বেস্ট\\nএইরকম পারফেক্ট গল...</td>\n",
       "      <td>joy</td>\n",
       "      <td>0</td>\n",
       "      <td>\\nভাইরেভাই বেস্ট এইটা বেস্ট\\nএইরকম পারফেক্ট গল...</td>\n",
       "    </tr>\n",
       "  </tbody>\n",
       "</table>\n",
       "<p>5667 rows × 4 columns</p>\n",
       "</div>"
      ],
      "text/plain": [
       "                                                 bangla  classes  lables  \\\n",
       "0         যত ভয়ের ব্যাপারটি নিয়ে মজা করছি তত ভয়  লাগছে      fear       5   \n",
       "1       দ্য স্যাক্রেড ব্যান্ড অফ থিবস    জনের দুর্ধর...  sadness       1   \n",
       "2      আকবর আলীর ভবিষ্যতে কি লেখা আছে জানিনা তবে তার...      joy       0   \n",
       "3      আমাদের সমাজ শেষ করে দিছে  যারা সেবন করে তারাও...     fear       5   \n",
       "4      আমার ক্ষেত্রে ও এমন হয়েছিল যেখানে ফেল যাওয়ার...  sadness       1   \n",
       "...                                                 ...      ...     ...   \n",
       "5662  হে আল্লাহ আপনি আমাদের দেশের প্রতি সহায়ক হন   ...  sadness       1   \n",
       "5663  ঈদ ছারাও যুদি বাংলাদেশ ঈদের খুশির অামেজ পান তব...      joy       0   \n",
       "5664  বছরের সবচেয়ে সেরা ভিডিও দেখেছি  আমাদের দেশের স...      joy       0   \n",
       "5665   কিরে মিথ্যা কথা কস কেন গতদিন আমি আর আসিফ আসছি...    anger       4   \n",
       "5666  \\nভাইরেভাই বেস্ট এইটা বেস্ট\\nএইরকম পারফেক্ট গল...      joy       0   \n",
       "\n",
       "                                                cleaned  \n",
       "0         যত ভয়ের ব্যাপারটি নিয়ে মজা করছি তত ভয়  লাগছে   \n",
       "1       দ্য স্যাক্রেড ব্যান্ড অফ থিবস    জনের দুর্ধর...  \n",
       "2      আকবর আলীর ভবিষ্যতে কি লেখা আছে জানিনা তবে তার...  \n",
       "3      আমাদের সমাজ শেষ করে দিছে  যারা সেবন করে তারাও...  \n",
       "4      আমার ক্ষেত্রে ও এমন হয়েছিল যেখানে ফেল যাওয়ার...  \n",
       "...                                                 ...  \n",
       "5662  হে আল্লাহ আপনি আমাদের দেশের প্রতি সহায়ক হন   ...  \n",
       "5663  ঈদ ছারাও যুদি বাংলাদেশ ঈদের খুশির অামেজ পান তব...  \n",
       "5664  বছরের সবচেয়ে সেরা ভিডিও দেখেছি  আমাদের দেশের স...  \n",
       "5665   কিরে মিথ্যা কথা কস কেন গতদিন আমি আর আসিফ আসছি...  \n",
       "5666  \\nভাইরেভাই বেস্ট এইটা বেস্ট\\nএইরকম পারফেক্ট গল...  \n",
       "\n",
       "[5667 rows x 4 columns]"
      ]
     },
     "execution_count": 58,
     "metadata": {},
     "output_type": "execute_result"
    }
   ],
   "source": [
    "df"
   ]
  },
  {
   "cell_type": "code",
   "execution_count": 59,
   "metadata": {},
   "outputs": [],
   "source": [
    "df.to_csv('labeled-text.csv',index=False,encoding='utf-8-sig')"
   ]
  },
  {
   "cell_type": "code",
   "execution_count": null,
   "metadata": {},
   "outputs": [],
   "source": []
  }
 ],
 "metadata": {
  "kernelspec": {
   "display_name": "Python 3.9.12 ('base')",
   "language": "python",
   "name": "python3"
  },
  "language_info": {
   "codemirror_mode": {
    "name": "ipython",
    "version": 3
   },
   "file_extension": ".py",
   "mimetype": "text/x-python",
   "name": "python",
   "nbconvert_exporter": "python",
   "pygments_lexer": "ipython3",
   "version": "3.9.12"
  },
  "orig_nbformat": 4,
  "vscode": {
   "interpreter": {
    "hash": "bc5c8107e9b9f584c67bdb35b448e63767bd7fdb4fdaa02efc50757b45f9e013"
   }
  }
 },
 "nbformat": 4,
 "nbformat_minor": 2
}
