{
 "cells": [
  {
   "cell_type": "code",
   "execution_count": 1,
   "metadata": {},
   "outputs": [
    {
     "data": {
      "text/html": [
       "<div>\n",
       "<style scoped>\n",
       "    .dataframe tbody tr th:only-of-type {\n",
       "        vertical-align: middle;\n",
       "    }\n",
       "\n",
       "    .dataframe tbody tr th {\n",
       "        vertical-align: top;\n",
       "    }\n",
       "\n",
       "    .dataframe thead th {\n",
       "        text-align: right;\n",
       "    }\n",
       "</style>\n",
       "<table border=\"1\" class=\"dataframe\">\n",
       "  <thead>\n",
       "    <tr style=\"text-align: right;\">\n",
       "      <th></th>\n",
       "      <th>bangla</th>\n",
       "      <th>classes</th>\n",
       "      <th>labels</th>\n",
       "    </tr>\n",
       "  </thead>\n",
       "  <tbody>\n",
       "    <tr>\n",
       "      <th>0</th>\n",
       "      <td>যত ভয়ের ব্যাপারটি নিয়ে মজা করছি তত ভয়  লাগছে</td>\n",
       "      <td>fear</td>\n",
       "      <td>2</td>\n",
       "    </tr>\n",
       "    <tr>\n",
       "      <th>1</th>\n",
       "      <td>দ্য স্যাক্রেড ব্যান্ড অফ থিবস    জনের দুর্ধর...</td>\n",
       "      <td>sadness</td>\n",
       "      <td>4</td>\n",
       "    </tr>\n",
       "    <tr>\n",
       "      <th>2</th>\n",
       "      <td>আকবর আলীর ভবিষ্যতে কি লেখা আছে জানিনা তবে তার...</td>\n",
       "      <td>joy</td>\n",
       "      <td>3</td>\n",
       "    </tr>\n",
       "    <tr>\n",
       "      <th>3</th>\n",
       "      <td>আমাদের সমাজ শেষ করে দিছে  যারা সেবন করে তারাও...</td>\n",
       "      <td>fear</td>\n",
       "      <td>2</td>\n",
       "    </tr>\n",
       "    <tr>\n",
       "      <th>4</th>\n",
       "      <td>আমার ক্ষেত্রে ও এমন হয়েছিল যেখানে ফেল যাওয়ার...</td>\n",
       "      <td>sadness</td>\n",
       "      <td>4</td>\n",
       "    </tr>\n",
       "  </tbody>\n",
       "</table>\n",
       "</div>"
      ],
      "text/plain": [
       "                                              bangla  classes  labels\n",
       "0      যত ভয়ের ব্যাপারটি নিয়ে মজা করছি তত ভয়  লাগছে      fear       2\n",
       "1    দ্য স্যাক্রেড ব্যান্ড অফ থিবস    জনের দুর্ধর...  sadness       4\n",
       "2   আকবর আলীর ভবিষ্যতে কি লেখা আছে জানিনা তবে তার...      joy       3\n",
       "3   আমাদের সমাজ শেষ করে দিছে  যারা সেবন করে তারাও...     fear       2\n",
       "4   আমার ক্ষেত্রে ও এমন হয়েছিল যেখানে ফেল যাওয়ার...  sadness       4"
      ]
     },
     "execution_count": 1,
     "metadata": {},
     "output_type": "execute_result"
    }
   ],
   "source": [
    "import pandas as pd\n",
    "data = pd.read_csv('labeled-sa-dataset.csv')\n",
    "data.head()"
   ]
  },
  {
   "cell_type": "code",
   "execution_count": 7,
   "metadata": {},
   "outputs": [
    {
     "data": {
      "text/plain": [
       "(5667, 3)"
      ]
     },
     "execution_count": 7,
     "metadata": {},
     "output_type": "execute_result"
    }
   ],
   "source": [
    "data.shape"
   ]
  },
  {
   "cell_type": "code",
   "execution_count": 8,
   "metadata": {},
   "outputs": [
    {
     "data": {
      "text/plain": [
       "bangla     0\n",
       "classes    0\n",
       "labels     0\n",
       "dtype: int64"
      ]
     },
     "execution_count": 8,
     "metadata": {},
     "output_type": "execute_result"
    }
   ],
   "source": [
    "data.isnull().sum()"
   ]
  },
  {
   "cell_type": "code",
   "execution_count": 2,
   "metadata": {},
   "outputs": [],
   "source": [
    "from sklearn.model_selection import train_test_split\n",
    "from sklearn.linear_model import LogisticRegressionCV\n",
    "from sklearn.tree import DecisionTreeClassifier\n",
    "from sklearn.neighbors import KNeighborsClassifier\n",
    "from sklearn.ensemble import RandomForestClassifier, AdaBoostClassifier\n",
    "from sklearn.naive_bayes import MultinomialNB\n",
    "from sklearn.svm import SVC\n",
    "from sklearn.feature_extraction.text import TfidfVectorizer, TfidfTransformer\n",
    "from sklearn.pipeline import Pipeline\n",
    "from sklearn.metrics import confusion_matrix\n",
    "\n",
    "from sklearn.metrics import accuracy_score,precision_score,recall_score,f1_score,roc_auc_score"
   ]
  },
  {
   "cell_type": "code",
   "execution_count": 3,
   "metadata": {},
   "outputs": [],
   "source": [
    "X = data.bangla\n",
    "y = data.labels\n",
    "\n",
    "train_data, test_data, train_labels, test_labels = train_test_split(X, y, test_size = 0.20, random_state = 0)"
   ]
  },
  {
   "cell_type": "code",
   "execution_count": 4,
   "metadata": {},
   "outputs": [],
   "source": [
    "lr_model = LogisticRegressionCV(class_weight='balanced', max_iter=400)\n",
    "dt_model = DecisionTreeClassifier(class_weight='balanced')\n",
    "rf_model = RandomForestClassifier(class_weight='balanced')\n",
    "mnb_model = MultinomialNB()\n",
    "svm_model = SVC(class_weight='balanced')\n",
    "knn_model = KNeighborsClassifier()\n",
    "ada_model = AdaBoostClassifier()\n",
    "model_names = ['Logistic Regression','Decision Tree','Random Forest','Naive Bayes', 'SVM', 'KNN', 'AdaBoost']\n",
    "ml_models = [lr_model,dt_model,rf_model,mnb_model, svm_model, knn_model, ada_model]"
   ]
  },
  {
   "cell_type": "code",
   "execution_count": 5,
   "metadata": {},
   "outputs": [],
   "source": [
    "def model_train(model, train_data, train_labels):\n",
    "\tpipe = Pipeline([\n",
    "        ('FE', TfidfVectorizer(ngram_range=(1,2), use_idf = True, tokenizer=lambda x: x.split())),  \n",
    "        ('Transformer', TfidfTransformer()),  \n",
    "        ('M', model)\n",
    "    ])\n",
    "\tpipe.fit(train_data, train_labels)\n",
    "\treturn pipe\n",
    "\n",
    "trained_ml_models = []\n",
    "for i in ml_models:\n",
    "    tt = model_train(i,train_data, train_labels)\n",
    "    trained_ml_models.append(tt)"
   ]
  },
  {
   "cell_type": "code",
   "execution_count": 6,
   "metadata": {},
   "outputs": [
    {
     "data": {
      "text/html": [
       "<div>\n",
       "<style scoped>\n",
       "    .dataframe tbody tr th:only-of-type {\n",
       "        vertical-align: middle;\n",
       "    }\n",
       "\n",
       "    .dataframe tbody tr th {\n",
       "        vertical-align: top;\n",
       "    }\n",
       "\n",
       "    .dataframe thead th {\n",
       "        text-align: right;\n",
       "    }\n",
       "</style>\n",
       "<table border=\"1\" class=\"dataframe\">\n",
       "  <thead>\n",
       "    <tr style=\"text-align: right;\">\n",
       "      <th></th>\n",
       "      <th>Accuracy</th>\n",
       "      <th>Precision</th>\n",
       "      <th>Recall</th>\n",
       "      <th>F1 Score</th>\n",
       "    </tr>\n",
       "  </thead>\n",
       "  <tbody>\n",
       "    <tr>\n",
       "      <th>Logistic Regression</th>\n",
       "      <td>58.82</td>\n",
       "      <td>58.55</td>\n",
       "      <td>58.82</td>\n",
       "      <td>58.31</td>\n",
       "    </tr>\n",
       "    <tr>\n",
       "      <th>Decision Tree</th>\n",
       "      <td>37.48</td>\n",
       "      <td>38.40</td>\n",
       "      <td>37.48</td>\n",
       "      <td>37.85</td>\n",
       "    </tr>\n",
       "    <tr>\n",
       "      <th>Random Forest</th>\n",
       "      <td>50.18</td>\n",
       "      <td>52.48</td>\n",
       "      <td>50.18</td>\n",
       "      <td>48.77</td>\n",
       "    </tr>\n",
       "    <tr>\n",
       "      <th>Naive Bayes</th>\n",
       "      <td>48.24</td>\n",
       "      <td>59.24</td>\n",
       "      <td>48.24</td>\n",
       "      <td>44.39</td>\n",
       "    </tr>\n",
       "    <tr>\n",
       "      <th>SVM</th>\n",
       "      <td>52.29</td>\n",
       "      <td>64.91</td>\n",
       "      <td>52.29</td>\n",
       "      <td>51.57</td>\n",
       "    </tr>\n",
       "    <tr>\n",
       "      <th>KNN</th>\n",
       "      <td>46.38</td>\n",
       "      <td>46.46</td>\n",
       "      <td>46.38</td>\n",
       "      <td>45.79</td>\n",
       "    </tr>\n",
       "    <tr>\n",
       "      <th>AdaBoost</th>\n",
       "      <td>42.06</td>\n",
       "      <td>53.60</td>\n",
       "      <td>42.06</td>\n",
       "      <td>40.58</td>\n",
       "    </tr>\n",
       "  </tbody>\n",
       "</table>\n",
       "</div>"
      ],
      "text/plain": [
       "                     Accuracy  Precision  Recall  F1 Score\n",
       "Logistic Regression     58.82      58.55   58.82     58.31\n",
       "Decision Tree           37.48      38.40   37.48     37.85\n",
       "Random Forest           50.18      52.48   50.18     48.77\n",
       "Naive Bayes             48.24      59.24   48.24     44.39\n",
       "SVM                     52.29      64.91   52.29     51.57\n",
       "KNN                     46.38      46.46   46.38     45.79\n",
       "AdaBoost                42.06      53.60   42.06     40.58"
      ]
     },
     "execution_count": 6,
     "metadata": {},
     "output_type": "execute_result"
    }
   ],
   "source": [
    "ac_list = []\n",
    "pr_list = []\n",
    "re_list = []\n",
    "f1_list = []\n",
    "\n",
    "\n",
    "def predict_results(md, x_test, y_test, name):\n",
    "    pred_y = md.predict(x_test)\n",
    "    ac_list.append((round(accuracy_score(y_test,pred_y),4)*100))\n",
    "    pr_list.append((round(precision_score(y_test, pred_y, average='weighted'),4)*100))\n",
    "    re_list.append((round(recall_score(y_test, pred_y, average='weighted'),4)*100))\n",
    "    f1_list.append((round(f1_score(y_test, pred_y, average='weighted'),4)*100))\n",
    "\n",
    "for i in range(len(trained_ml_models)):\n",
    "    md = trained_ml_models[i]\n",
    "    name = model_names[i]\n",
    "    predict_results(md, test_data, test_labels, name)\n",
    "\n",
    "performance_matrix = pd.DataFrame({'Accuracy':ac_list,'Precision':pr_list,\n",
    "                                'Recall':re_list,'F1 Score':f1_list},\n",
    "                                index =model_names)\n",
    "performance_matrix"
   ]
  },
  {
   "cell_type": "code",
   "execution_count": null,
   "metadata": {},
   "outputs": [],
   "source": []
  }
 ],
 "metadata": {
  "kernelspec": {
   "display_name": "Python 3.9.12 ('base')",
   "language": "python",
   "name": "python3"
  },
  "language_info": {
   "codemirror_mode": {
    "name": "ipython",
    "version": 3
   },
   "file_extension": ".py",
   "mimetype": "text/x-python",
   "name": "python",
   "nbconvert_exporter": "python",
   "pygments_lexer": "ipython3",
   "version": "3.9.12"
  },
  "orig_nbformat": 4,
  "vscode": {
   "interpreter": {
    "hash": "bc5c8107e9b9f584c67bdb35b448e63767bd7fdb4fdaa02efc50757b45f9e013"
   }
  }
 },
 "nbformat": 4,
 "nbformat_minor": 2
}
